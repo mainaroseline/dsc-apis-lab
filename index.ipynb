{
 "cells": [
  {
   "cell_type": "markdown",
   "metadata": {},
   "source": [
    "# APIs - Cumulative Lab\n",
    "\n",
    "\n",
    "## Introduction \n",
    "\n",
    "We've seen how the Yelp API works and how to create basic visualizations using Folium. It's time to put those skills to work in order to create a working map! Taking things a step further, you'll also independently explore how to perform pagination in order to retrieve a full results set from the Yelp API.\n",
    "\n",
    "## Objectives\n",
    "\n",
    "You will be able to: \n",
    "\n",
    "* Practice using functions to organize your code\n",
    "* Use pagination to retrieve all results from an API query\n",
    "* Practice parsing data returned from an API query\n",
    "* Practice interpreting visualizations of a dataset\n",
    "* Create maps using Folium"
   ]
  },
  {
   "cell_type": "markdown",
   "metadata": {},
   "source": [
    "## Your Task: Query Yelp for All Businesses in a Category and Analyze the Results\n",
    "\n",
    "![restaurant counter with pizza](images/restaurant_counter.jpg)\n",
    "\n",
    "Photo by <a href=\"https://unsplash.com/@jordanmadrid?utm_source=unsplash&utm_medium=referral&utm_content=creditCopyText\">Jordan Madrid</a> on <a href=\"/s/photos/pizza-restaurant?utm_source=unsplash&utm_medium=referral&utm_content=creditCopyText\">Unsplash</a>"
   ]
  },
  {
   "cell_type": "markdown",
   "metadata": {},
   "source": [
    "### Overview\n",
    "\n",
    "You've now worked with some API calls, but we have yet to see how to retrieve a more complete dataset in a programmatic manner. In this lab, you will write a query of businesses on Yelp, then use *pagination* to retrieve all possible results for that query. Then you will create a summary of your findings, including a Folium map of the geographic locations of those businesses.\n",
    "\n",
    "### Technical Details\n",
    "\n",
    "Returning to the Yelp API, the [documentation](https://www.yelp.com/developers/documentation/v3/business_search) also provides us details regarding the **API limits**. These often include details about the number of requests a user is allowed to make within a specified time limit and the maximum number of results to be returned. In this case, we are told that any request has a **maximum of 50 results per request** and defaults to 20. Furthermore, any search will be limited to a **total of 1000 results**. To retrieve all 1000 of these results, we would have to page through the results piece by piece, retrieving 50 at a time. Processes such as these are often referred to as pagination.\n",
    "\n",
    "Also, be mindful of the **API** ***rate*** **limits**. You can only make **5000 requests per day** and are also can make requests too fast. Start prototyping small before running a loop that could be faulty. You can also use `time.sleep(n)` to add delays. For more details see https://www.yelp.com/developers/documentation/v3/rate_limiting.\n",
    "\n",
    "In this lab, you will define a search and then paginate over the results to retrieve all of the results. You'll then parse these responses as a list of dictionaries (for further exploration) and create a map using Folium to visualize the results geographically.\n",
    "\n",
    "### Requirements\n",
    "\n",
    "#### 1. Make the Initial Request\n",
    "\n",
    "Start by filling in your API key to make the initial request to the business search API. Investigate the structure of the response you get back and start figuring out how you will extract the relevant information.\n",
    "\n",
    "#### 2. Add Pagination\n",
    "\n",
    "Using loops and functions, collect the maximum number of results for your query from the API.\n",
    "\n",
    "#### 3. Perform Exploratory Analysis\n",
    "\n",
    "Interpret visualizations related to the price range, average rating, and number of reviews for all query results.\n",
    "\n",
    "#### 4. Create a Folium Map\n",
    "\n",
    "Using latitude and longitude data, plot the query results on an interactive map."
   ]
  },
  {
   "cell_type": "markdown",
   "metadata": {},
   "source": [
    "## 1. Make the Initial Request\n",
    "\n",
    "### Querying\n",
    "\n",
    "Start by making an initial request to the Yelp API. Your search must include at least 2 parameters: **term** and **location**. For example, you might search for pizza restaurants in NYC. The term and location is up to you but make the request below.\n",
    "\n",
    "Use the `requests` library ([documentation here](https://requests.readthedocs.io/en/master/user/quickstart/#make-a-request)).\n",
    "\n",
    "You'll also need an API key from Yelp. If you haven't done this already, go to the Yelp [Manage App page](https://www.yelp.com/developers/v3/manage_app) and create a new app (after making an account if you haven't already)."
   ]
  },
  {
   "cell_type": "code",
   "execution_count": 2,
   "metadata": {},
   "outputs": [
    {
     "data": {
      "text/plain": [
       "<Response [200]>"
      ]
     },
     "execution_count": 2,
     "metadata": {},
     "output_type": "execute_result"
    }
   ],
   "source": [
    "# Replace None with appropriate code\n",
    "\n",
    "# Import the requests library\n",
    "import requests\n",
    "\n",
    "# Get this from the \"Manage App\" page. Make sure you set them\n",
    "# back to None before pushing this to GitHub, since otherwise\n",
    "# your credentials will be compromised\n",
    "api_key = None\n",
    "\n",
    "# These can be whatever you want! But the solution uses \"pizza\"\n",
    "# and \"New York NY\" if you want to compare your work directly\n",
    "term = 'pizze'\n",
    "location = \"New York NY\"\n",
    "\n",
    "# Set up params for request\n",
    "url = \"https://api.yelp.com/v3/businesses/search\"\n",
    "headers = {\n",
    "    \"Authorization\": \"Bearer {}\".format(api_key)\n",
    "}\n",
    "url_params = {\n",
    "    \"term\": term.replace(\" \", \"+\"),\n",
    "    \"location\": location.replace(\" \", \"+\")\n",
    "}\n",
    "\n",
    "# Make the request using requests.get, passing in\n",
    "# url, headers=headers, and params=url_params\n",
    "response = requests.get(url, headers=headers, params=url_params)\n",
    "\n",
    "# Confirm we got a 200 response\n",
    "response"
   ]
  },
  {
   "cell_type": "code",
   "execution_count": 2,
   "metadata": {},
   "outputs": [
    {
     "data": {
      "text/plain": [
       "dict_keys(['businesses', 'total', 'region'])"
      ]
     },
     "execution_count": 2,
     "metadata": {},
     "output_type": "execute_result"
    }
   ],
   "source": [
    "# Run this cell without changes\n",
    "\n",
    "# Get the response body in JSON format\n",
    "response_json = response.json()\n",
    "# View the keys\n",
    "response_json.keys()"
   ]
  },
  {
   "cell_type": "markdown",
   "metadata": {},
   "source": [
    "### Extracting Data\n",
    "\n",
    "Now, retrieve the value associated with the `'businesses'` key, and inspect its contents."
   ]
  },
  {
   "cell_type": "code",
   "execution_count": 3,
   "metadata": {},
   "outputs": [
    {
     "data": {
      "text/plain": [
       "[{'id': 'EfQnmDb_yciEKOpt9UbHww',\n",
       "  'alias': 'pizzelis-n-bellmore',\n",
       "  'name': \"Pizzeli's\",\n",
       "  'image_url': 'https://s3-media3.fl.yelpcdn.com/bphoto/1QRyjoHwPcpgtgvM9EHraw/o.jpg',\n",
       "  'is_closed': False,\n",
       "  'url': 'https://www.yelp.com/biz/pizzelis-n-bellmore?adjust_creative=ghQA5MzmEsnriwCXsD9kfA&utm_campaign=yelp_api_v3&utm_medium=api_v3_business_search&utm_source=ghQA5MzmEsnriwCXsD9kfA',\n",
       "  'review_count': 39,\n",
       "  'categories': [{'alias': 'pizza', 'title': 'Pizza'},\n",
       "   {'alias': 'italian', 'title': 'Italian'}],\n",
       "  'rating': 3.5,\n",
       "  'coordinates': {'latitude': 40.6868, 'longitude': -73.54152},\n",
       "  'transactions': ['delivery', 'pickup'],\n",
       "  'price': '$',\n",
       "  'location': {'address1': '1354 Newbridge Rd',\n",
       "   'address2': '',\n",
       "   'address3': '',\n",
       "   'city': 'N Bellmore',\n",
       "   'zip_code': '11710',\n",
       "   'country': 'US',\n",
       "   'state': 'NY',\n",
       "   'display_address': ['1354 Newbridge Rd', 'N Bellmore, NY 11710']},\n",
       "  'phone': '+15167831300',\n",
       "  'display_phone': '(516) 783-1300',\n",
       "  'distance': 38237.37287638573},\n",
       " {'id': 'zj8Lq1T8KIC5zwFief15jg',\n",
       "  'alias': 'prince-street-pizza-new-york-2',\n",
       "  'name': 'Prince Street Pizza',\n",
       "  'image_url': 'https://s3-media3.fl.yelpcdn.com/bphoto/ZAukOyv530w4KjOHC5YY1w/o.jpg',\n",
       "  'is_closed': False,\n",
       "  'url': 'https://www.yelp.com/biz/prince-street-pizza-new-york-2?adjust_creative=ghQA5MzmEsnriwCXsD9kfA&utm_campaign=yelp_api_v3&utm_medium=api_v3_business_search&utm_source=ghQA5MzmEsnriwCXsD9kfA',\n",
       "  'review_count': 4305,\n",
       "  'categories': [{'alias': 'pizza', 'title': 'Pizza'},\n",
       "   {'alias': 'italian', 'title': 'Italian'}],\n",
       "  'rating': 4.5,\n",
       "  'coordinates': {'latitude': 40.72308755605564,\n",
       "   'longitude': -73.99453001177575},\n",
       "  'transactions': ['delivery', 'pickup'],\n",
       "  'price': '$',\n",
       "  'location': {'address1': '27 Prince St',\n",
       "   'address2': None,\n",
       "   'address3': '',\n",
       "   'city': 'New York',\n",
       "   'zip_code': '10012',\n",
       "   'country': 'US',\n",
       "   'state': 'NY',\n",
       "   'display_address': ['27 Prince St', 'New York, NY 10012']},\n",
       "  'phone': '+12129664100',\n",
       "  'display_phone': '(212) 966-4100',\n",
       "  'distance': 1961.8771417367063}]"
      ]
     },
     "execution_count": 3,
     "metadata": {},
     "output_type": "execute_result"
    }
   ],
   "source": [
    "# Replace None with appropriate code\n",
    "\n",
    "# Retrieve the value from response_json\n",
    "businesses = response_json['businesses']\n",
    "\n",
    "# View the first 2 records\n",
    "businesses[:2]"
   ]
  },
  {
   "cell_type": "markdown",
   "metadata": {},
   "source": [
    "### Preparing Data\n",
    "\n",
    "Write a function `prepare_data` that takes in a list of dictionaries like `businesses` and returns a copy that has been prepared for analysis:\n",
    "\n",
    "1. The `coordinates` key-value pair has been converted into two separate key-value pairs, `latitude` and `longitude`\n",
    "2. All other key-value pairs except for `name`, `review_count`, `rating`, and `price` have been dropped\n",
    "3. All dictionaries missing one of the relevant keys or containing null values have been dropped\n",
    "\n",
    "In other words, the final keys for each dictionary should be `name`, `review_count`, `rating`, `price`, `latitude`, and `longitude`.\n",
    "\n",
    "Complete the function in the cell below:"
   ]
  },
  {
   "cell_type": "code",
   "execution_count": 4,
   "metadata": {},
   "outputs": [
    {
     "data": {
      "text/plain": [
       "[{'name': \"Pizzeli's\",\n",
       "  'review_count': 39,\n",
       "  'rating': 3.5,\n",
       "  'price': '$',\n",
       "  'latitude': 40.6868,\n",
       "  'longitude': -73.54152},\n",
       " {'name': 'Prince Street Pizza',\n",
       "  'review_count': 4305,\n",
       "  'rating': 4.5,\n",
       "  'price': '$',\n",
       "  'latitude': 40.72308755605564,\n",
       "  'longitude': -73.99453001177575},\n",
       " {'name': 'Bleecker Street Pizza',\n",
       "  'review_count': 2586,\n",
       "  'rating': 4.0,\n",
       "  'price': '$',\n",
       "  'latitude': 40.7320627016512,\n",
       "  'longitude': -74.0036552270137},\n",
       " {'name': \"Lombardi's Pizza\",\n",
       "  'review_count': 6304,\n",
       "  'rating': 4.0,\n",
       "  'price': '$$',\n",
       "  'latitude': 40.7215934960083,\n",
       "  'longitude': -73.9955956044561},\n",
       " {'name': \"Juliana's\",\n",
       "  'review_count': 2431,\n",
       "  'rating': 4.5,\n",
       "  'price': '$$',\n",
       "  'latitude': 40.70274718768062,\n",
       "  'longitude': -73.99343490196397}]"
      ]
     },
     "execution_count": 4,
     "metadata": {},
     "output_type": "execute_result"
    }
   ],
   "source": [
    "# Replace None with appropriate code\n",
    "\n",
    "def prepare_data(data_list):\n",
    "    \"\"\"\n",
    "    This function takes in a list of dictionaries and prepares it\n",
    "    for analysis\n",
    "    \"\"\"\n",
    "    \n",
    "    # Make a new list to hold results\n",
    "    results = []\n",
    "    \n",
    "    for business_data in data_list:\n",
    "    \n",
    "        # Make a new dictionary to hold prepared data for this business\n",
    "        prepared_data = {}\n",
    "        \n",
    "        # Extract name, review_count, rating, and price key-value pairs\n",
    "        # from business_data and add to prepared_data\n",
    "        # If a key is not present in business_data, add it to prepared_data\n",
    "        # with an associated value of None\n",
    "        for key in ('name', 'review_count', 'rating', 'price'):\n",
    "            prepared_data[key] = business_data.get(key, None)    \n",
    "        # Parse and add latitude and longitude columns\n",
    "        location_coord = business_data['coordinates']\n",
    "        prepared_data['latitude'] = location_coord['latitude']\n",
    "        prepared_data['longitude'] = location_coord['longitude']\n",
    "        # Add to list if all values are present\n",
    "        if all(prepared_data.values()):\n",
    "            results.append(prepared_data)\n",
    "    \n",
    "    return results\n",
    "    \n",
    "# Test out function\n",
    "prepared_businesses = prepare_data(businesses)\n",
    "prepared_businesses[:5]"
   ]
  },
  {
   "cell_type": "markdown",
   "metadata": {},
   "source": [
    "Check that your function created the correct keys:"
   ]
  },
  {
   "cell_type": "code",
   "execution_count": 5,
   "metadata": {},
   "outputs": [],
   "source": [
    "# Run this cell without changes\n",
    "\n",
    "assert sorted(list(prepared_businesses[0].keys())) == ['latitude', 'longitude', 'name', 'price', 'rating', 'review_count']"
   ]
  },
  {
   "cell_type": "markdown",
   "metadata": {},
   "source": [
    "The following code will differ depending on your query, but we expect there to be 20 businesses in the original list, and potentially fewer in the prepared list (if any of them were missing data):"
   ]
  },
  {
   "cell_type": "code",
   "execution_count": 6,
   "metadata": {},
   "outputs": [
    {
     "name": "stdout",
     "output_type": "stream",
     "text": [
      "Original: 20\n",
      "Prepared: 20\n"
     ]
    }
   ],
   "source": [
    "# Run this cell without changes\n",
    "print(\"Original:\", len(businesses))\n",
    "print(\"Prepared:\", len(prepared_businesses))"
   ]
  },
  {
   "cell_type": "markdown",
   "metadata": {},
   "source": [
    "Great! We will reuse this function once we have retrieved the full dataset."
   ]
  },
  {
   "cell_type": "markdown",
   "metadata": {},
   "source": [
    "## 2. Add Pagination\n",
    "\n",
    "Now that you are able to extract information from one page of the response, let's figure out how to request as many pages as possible.\n",
    "\n",
    "### Determining the Total\n",
    "\n",
    "Depending on the number of total results for your query, you will either retrieve all of the results, or just the first 1000 (if there are more than 1000 total).\n",
    "\n",
    "We can find the total number of results using the `\"total\"` key:"
   ]
  },
  {
   "cell_type": "code",
   "execution_count": 7,
   "metadata": {},
   "outputs": [
    {
     "data": {
      "text/plain": [
       "221"
      ]
     },
     "execution_count": 7,
     "metadata": {},
     "output_type": "execute_result"
    }
   ],
   "source": [
    "# Run this cell without changes\n",
    "response_json[\"total\"]"
   ]
  },
  {
   "cell_type": "markdown",
   "metadata": {},
   "source": [
    "(This is specific to the implementation of the Yelp API. Some APIs will just tell you that there are more pages, or will tell you the number of pages total, rather than the total number of results. If you're not sure, always check the documentation.)\n",
    "\n",
    "In the cell below, assign the variable `total` to either the value shown above (if it is less than 1000), or 1000."
   ]
  },
  {
   "cell_type": "code",
   "execution_count": 13,
   "metadata": {},
   "outputs": [],
   "source": [
    "# Replace None with appropriate code\n",
    "total = 221"
   ]
  },
  {
   "cell_type": "markdown",
   "metadata": {},
   "source": [
    "### Calculating the Offsets\n",
    "\n",
    "The documentation states in the parameters section:\n",
    "\n",
    "> **Name**: `limit`, **Type:** int, **Description:** Optional. Number of business results to return. By default, it will return 20. Maximum is 50.\n",
    "\n",
    "> **Name**: `offset`, **Type:** int, **Description:** Optional. Offset the list of returned business results by this amount.\n",
    "\n",
    "So, to get the most results with the fewest API calls we want to set a limit of 50 every time. If, say, we wanted to get 210 total results, that would mean:\n",
    "\n",
    "1. Offset of `0` (first 50 records)\n",
    "2. Offset of `50` (second 50 records)\n",
    "3. Offset of `100` (third 50 records)\n",
    "4. Offset of `150` (fourth 50 records)\n",
    "5. Offset of `200` (final 10 records)\n",
    "\n",
    "In the cell below, create a function `get_offsets` that takes in a total and returns a list of offsets for that total. You can assume that there is a limit of 50 every time.\n",
    "\n",
    "*Hint: you can use `range` ([documentation here](https://docs.python.org/3.3/library/stdtypes.html?highlight=range#range)) to do this in one line of code. Just make the returned result is a list.*"
   ]
  },
  {
   "cell_type": "code",
   "execution_count": 14,
   "metadata": {},
   "outputs": [],
   "source": [
    "# Replace None with appropriate code\n",
    "def get_offsets(total):\n",
    "    \"\"\"\n",
    "    Get a list of offsets needed to get all pages\n",
    "    of data up until the total\n",
    "    \"\"\"\n",
    "    return list(range(0, total, 50))"
   ]
  },
  {
   "cell_type": "markdown",
   "metadata": {},
   "source": [
    "Check that your function works below:"
   ]
  },
  {
   "cell_type": "code",
   "execution_count": 15,
   "metadata": {},
   "outputs": [],
   "source": [
    "# Run this cell without changes\n",
    "\n",
    "assert get_offsets(200) == [0, 50, 100, 150]\n",
    "assert get_offsets(210) == [0, 50, 100, 150, 200]"
   ]
  },
  {
   "cell_type": "markdown",
   "metadata": {},
   "source": [
    "### Putting It All Together\n",
    "\n",
    "Recall that the following variable has already been declared for you:"
   ]
  },
  {
   "cell_type": "code",
   "execution_count": 16,
   "metadata": {},
   "outputs": [
    {
     "data": {
      "text/plain": [
       "{'term': 'pizze', 'location': 'New+York+NY', 'limit': 50}"
      ]
     },
     "execution_count": 16,
     "metadata": {},
     "output_type": "execute_result"
    }
   ],
   "source": [
    "# Run this cell without changes\n",
    "url_params"
   ]
  },
  {
   "cell_type": "markdown",
   "metadata": {},
   "source": [
    "We'll go ahead and also specify that the limit should be 50 every time:"
   ]
  },
  {
   "cell_type": "code",
   "execution_count": 17,
   "metadata": {},
   "outputs": [],
   "source": [
    "# Run this cell without changes\n",
    "url_params[\"limit\"] = 50"
   ]
  },
  {
   "cell_type": "markdown",
   "metadata": {},
   "source": [
    "In order to modify the offset, you'll need to add it to `url_params` with the key `\"offset\"` and whatever value is needed.\n",
    "\n",
    "In the cell below, write code that:\n",
    "\n",
    "* Creates an empty list for the full prepared dataset\n",
    "* Loops over all of the offsets from `get_offsets` and makes an API call each time with the specified offset\n",
    "* Calls `prepare_data` to get a cleaned version of the result of each API call\n",
    "* Extends the full prepared dataset list with each query's prepared dataset"
   ]
  },
  {
   "cell_type": "code",
   "execution_count": 18,
   "metadata": {},
   "outputs": [
    {
     "data": {
      "text/plain": [
       "197"
      ]
     },
     "execution_count": 18,
     "metadata": {},
     "output_type": "execute_result"
    }
   ],
   "source": [
    "# Replace None with appropriate code\n",
    "\n",
    "# Create an empty list for the full prepared dataset\n",
    "full_dataset = []\n",
    "\n",
    "for offset in get_offsets(total):\n",
    "    # Add or update the \"offset\" key-value pair in url_params\n",
    "    url_params[\"offset\"] = offset\n",
    "    \n",
    "    # Make the query and get the response\n",
    "    response = requests.get(url, headers=headers, params=url_params)\n",
    "    \n",
    "    # Get the response body in JSON format\n",
    "    response_json = response.json()\n",
    "    \n",
    "    # Get the list of businesses from the response_json\n",
    "    businesses = response_json[\"businesses\"]\n",
    "    \n",
    "    # Call the prepare_data function to get a list of processed data\n",
    "    prepared_businesses = prepare_data(businesses)\n",
    "    \n",
    "    # Extend full_dataset with this list (don't append, or you'll get\n",
    "    # a list of lists instead of a flat list)\n",
    "    full_dataset.extend(prepared_businesses)\n",
    "\n",
    "# Check the length of the full dataset. It will be up to `total`,\n",
    "# potentially less if there were missing values\n",
    "len(full_dataset)"
   ]
  },
  {
   "cell_type": "code",
   "execution_count": 19,
   "metadata": {},
   "outputs": [
    {
     "data": {
      "text/plain": [
       "{'name': \"Pizzeli's\",\n",
       " 'review_count': 39,\n",
       " 'rating': 3.5,\n",
       " 'price': '$',\n",
       " 'latitude': 40.6868,\n",
       " 'longitude': -73.54152}"
      ]
     },
     "execution_count": 19,
     "metadata": {},
     "output_type": "execute_result"
    }
   ],
   "source": [
    "full_dataset[0]"
   ]
  },
  {
   "cell_type": "markdown",
   "metadata": {},
   "source": [
    "This code may take up to a few minutes to run.\n",
    "\n",
    "If you get an error trying to get the response body in JSON format, try adding `time.sleep(1)` right after the `requests.get` line, so your code will sleep for 1 second between each API call."
   ]
  },
  {
   "cell_type": "markdown",
   "metadata": {},
   "source": [
    "## 3. Perform Exploratory Analysis\n",
    "\n",
    "Take the businesses from the previous question and do an initial exploratory analysis. We have provided some plots for you to interpret:"
   ]
  },
  {
   "cell_type": "code",
   "execution_count": 20,
   "metadata": {},
   "outputs": [
    {
     "data": {
      "image/png": "[encoded data removed]",
      "text/plain": [
       "<Figure size 1152x360 with 3 Axes>"
      ]
     },
     "metadata": {
      "needs_background": "light"
     },
     "output_type": "display_data"
    }
   ],
   "source": [
    "# Run this cell without changes\n",
    "from collections import Counter\n",
    "import matplotlib.pyplot as plt\n",
    "%matplotlib inline\n",
    "\n",
    "fig, (ax1, ax2, ax3) = plt.subplots(ncols=3, figsize=(16, 5))\n",
    "\n",
    "# Plot distribution of number of reviews\n",
    "all_review_counts = [x[\"review_count\"] for x in full_dataset]\n",
    "ax1.hist(all_review_counts)\n",
    "ax1.set_title(\"Review Count Distribution\")\n",
    "ax1.set_xlabel(\"Number of Reviews\")\n",
    "ax1.set_ylabel(\"Number of Businesses\")\n",
    "\n",
    "# Plot rating distribution\n",
    "all_ratings = [x[\"rating\"] for x in full_dataset]\n",
    "rating_counter = Counter(all_ratings)\n",
    "rating_keys = sorted(rating_counter.keys())\n",
    "ax2.bar(rating_keys, [rating_counter[key] for key in rating_keys])\n",
    "ax2.set_title(\"Rating Distribution\")\n",
    "ax2.set_xlabel(\"Rating\")\n",
    "ax2.set_ylabel(\"Number of Businesses\")\n",
    "\n",
    "# Plot price distribution\n",
    "all_prices = [x[\"price\"].replace(\"$\", r\"\\$\") for x in full_dataset]\n",
    "price_counter = Counter(all_prices)\n",
    "price_keys = sorted(price_counter.keys())\n",
    "ax3.bar(price_keys, [price_counter[key] for key in price_keys])\n",
    "ax3.set_title(\"Price Distribution\")\n",
    "ax3.set_xlabel(\"Price Category\")\n",
    "ax3.set_ylabel(\"Number of Businesses\");"
   ]
  },
  {
   "cell_type": "markdown",
   "metadata": {},
   "source": [
    "Describe the distributions displayed above and interpret them in the context of your query. (Your answer may differ from the solution branch depending on your query.)"
   ]
  },
  {
   "cell_type": "code",
   "execution_count": 22,
   "metadata": {},
   "outputs": [
    {
     "data": {
      "text/plain": [
       "'\\nThe Review Count Distribution graph is skewed more to the right. With more businesses receiving between less than 1000 reviews\\nwhile a small number of businesses receiving 6000 reviews\\n\\nThe Rating Distribution graph is skewed more to the left with a large number of businesses receiving  a rating of between\\n3.5 to 4 with very few businesses receiving a rating 5\\n\\nThe Price Distribution graph shows that most of the prices lie in $$ followed by $, very few businesses have their prices \\nat $$$$\\n'"
      ]
     },
     "execution_count": 22,
     "metadata": {},
     "output_type": "execute_result"
    }
   ],
   "source": [
    "# Replace None with appropriate text\n",
    "\"\"\"\n",
    "The Review Count Distribution graph is skewed more to the right. With more businesses receiving between less than 1000 reviews\n",
    "while a small number of businesses receiving 6000 reviews\n",
    "\n",
    "The Rating Distribution graph is skewed more to the left with a large number of businesses receiving  a rating of between\n",
    "3.5 to 4 with very few businesses receiving a rating 5\n",
    "\n",
    "The Price Distribution graph shows that most of the prices lie in $$ followed by $, very few businesses have their prices \n",
    "at $$$$\n",
    "\"\"\""
   ]
  },
  {
   "cell_type": "markdown",
   "metadata": {},
   "source": [
    "In the cell below, we also plot the rating distributions by price. In this setup, a price of one dollar sign is \"lower price\" and everything else is \"higher price\"."
   ]
  },
  {
   "cell_type": "code",
   "execution_count": 21,
   "metadata": {},
   "outputs": [
    {
     "data": {
      "image/png": "[encoded data removed]",
      "text/plain": [
       "<Figure size 432x288 with 1 Axes>"
      ]
     },
     "metadata": {
      "needs_background": "light"
     },
     "output_type": "display_data"
    }
   ],
   "source": [
    "# Run this cell without changes\n",
    "\n",
    "higher_price = []\n",
    "lower_price = []\n",
    "for row in full_dataset:\n",
    "    if row[\"price\"] == \"$\":\n",
    "        lower_price.append(row[\"rating\"])\n",
    "    else:\n",
    "        higher_price.append(row[\"rating\"])\n",
    "        \n",
    "fig, ax = plt.subplots()\n",
    "\n",
    "ax.hist([higher_price, lower_price], label=[\"higher price\", \"lower price\"], density=True)\n",
    "\n",
    "ax.legend();"
   ]
  },
  {
   "cell_type": "markdown",
   "metadata": {},
   "source": [
    "Is a higher price associated with a higher rating? (No need for any additional math/statistics, just interpret what you see in the plot.)"
   ]
  },
  {
   "cell_type": "code",
   "execution_count": 22,
   "metadata": {},
   "outputs": [
    {
     "data": {
      "text/plain": [
       "'\\nthe graph shows that higher prices recieved the highest ratings while businesses with lower prices received low ratings\\nthis is evident by the fact that the highest peak for lower prices received a lower rating as compared to the\\nhighest peak for the higher prices\\n'"
      ]
     },
     "execution_count": 22,
     "metadata": {},
     "output_type": "execute_result"
    }
   ],
   "source": [
    "# Replace None with appropriate text\n",
    "\"\"\"\n",
    "the graph shows that higher prices recieved the highest ratings while businesses with lower prices received low ratings\n",
    "this is evident by the fact that the highest peak for lower prices received a lower rating as compared to the\n",
    "highest peak for the higher prices\n",
    "\"\"\""
   ]
  },
  {
   "cell_type": "markdown",
   "metadata": {},
   "source": [
    "Finally, let's look at ratings vs. review counts:"
   ]
  },
  {
   "cell_type": "code",
   "execution_count": 23,
   "metadata": {},
   "outputs": [
    {
     "data": {
      "image/png": "[encoded data removed]",
      "text/plain": [
       "<Figure size 1152x360 with 1 Axes>"
      ]
     },
     "metadata": {
      "needs_background": "light"
     },
     "output_type": "display_data"
    }
   ],
   "source": [
    "# Run this cell without changes\n",
    "fig, ax = plt.subplots(figsize=(16,5))\n",
    "\n",
    "ax.scatter(all_review_counts, all_ratings, alpha=0.2)\n",
    "ax.set_xlabel(\"Number of Reviews\")\n",
    "ax.set_ylabel(\"Rating\")\n",
    "# \"zoom in\" to a subset of review counts\n",
    "ax.set_xlim(left=0, right=1000);"
   ]
  },
  {
   "cell_type": "markdown",
   "metadata": {},
   "source": [
    "Is a higher number of reviews associated with a higher rating?"
   ]
  },
  {
   "cell_type": "code",
   "execution_count": 26,
   "metadata": {},
   "outputs": [
    {
     "data": {
      "text/plain": [
       "'\\nThe scatter plot shows that a lot of businesses with a rating of 4.0 mostly recieve reviews that lie between 600 and below,\\nbusiness that have a rating of 4.5 to 5 receive a lot less reviews as compared to those with a rating of 4.0\\nwhile business with a rating of 3 to 1.5 receive the least reviews.\\n'"
      ]
     },
     "execution_count": 26,
     "metadata": {},
     "output_type": "execute_result"
    }
   ],
   "source": [
    "# Replace None with appropriate text\n",
    "\"\"\"\n",
    "The scatter plot shows that a lot of businesses with a rating of 4.0 mostly recieve reviews that lie between 600 and below,\n",
    "business that have a rating of 4.5 to 5 receive a lot less reviews as compared to those with a rating of 4.0\n",
    "while business with a rating of 3 to 1.5 receive the least reviews.\n",
    "\"\"\""
   ]
  },
  {
   "cell_type": "markdown",
   "metadata": {},
   "source": [
    "## 4. Create a Folium Map\n",
    "\n",
    "Make a map using Folium of the businesses you retrieved. Be sure to also add popups to the markers giving some basic information such as name, rating and price.\n",
    "\n",
    "You can center the map around the latitude and longitude of the first item in `full_dataset`."
   ]
  },
  {
   "cell_type": "code",
   "execution_count": 24,
   "metadata": {},
   "outputs": [
    {
     "data": {
      "text/html": [
       "<div style=\"width:100%;\"><div style=\"position:relative;width:100%;height:0;padding-bottom:60%;\"><span style=\"color:#565656\">Make this Notebook Trusted to load map: File -> Trust Notebook</span><iframe src=\"about:blank\" style=\"position:absolute;width:100%;height:100%;left:0;top:0;border:none !important;\" data-html=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 onload=\"this.contentDocument.open();this.contentDocument.write(atob(this.getAttribute('data-html')));this.contentDocument.close();\" allowfullscreen webkitallowfullscreen mozallowfullscreen></iframe></div></div>"
      ],
      "text/plain": [
       "<folium.folium.Map at 0x2027767a580>"
      ]
     },
     "execution_count": 24,
     "metadata": {},
     "output_type": "execute_result"
    }
   ],
   "source": [
    "# Replace None with appropriate code\n",
    "\n",
    "# Import the library\n",
    "import folium\n",
    "\n",
    "# Set up center latitude and longitude\n",
    "center_lat = full_dataset[0]['latitude']\n",
    "center_long = full_dataset[0]['longitude']\n",
    "\n",
    "# Initialize map with center lat and long\n",
    "yelp_map = folium.Map([center_lat, center_long], zoom_start = 13)\n",
    "\n",
    "# Adjust this limit to see more or fewer businesses\n",
    "limit=100\n",
    "\n",
    "for business in full_dataset[:limit]:\n",
    "    # Extract information about business\n",
    "    lat = business['latitude']\n",
    "    long = business['longitude']\n",
    "    name = business['name']\n",
    "    rating = business['rating']\n",
    "    price = business['price']\n",
    "    details = \"{}\\nPrice: {} Rating:{}\".format(name,price,rating)\n",
    "    \n",
    "    # Create popup with relevant details\n",
    "    popup =folium.Popup(details)\n",
    "    \n",
    "    # Create marker with relevant lat/long and popup\n",
    "    marker = folium.Marker(location=[lat, long], popup=popup)\n",
    "    \n",
    "    marker.add_to(yelp_map)\n",
    "    \n",
    "yelp_map"
   ]
  },
  {
   "cell_type": "markdown",
   "metadata": {},
   "source": [
    "## Summary\n",
    "\n",
    "Nice work! In this lab, you've made multiple API calls to Yelp in order to paginate through a results set, performing some basic exploratory analysis and then creating a nice interactive map to display the results using Folium! Well done!"
   ]
  }
 ],
 "metadata": {
  "kernelspec": {
   "display_name": "Python 3",
   "language": "python",
   "name": "python3"
  },
  "language_info": {
   "codemirror_mode": {
    "name": "ipython",
    "version": 3
   },
   "file_extension": ".py",
   "mimetype": "text/x-python",
   "name": "python",
   "nbconvert_exporter": "python",
   "pygments_lexer": "ipython3",
   "version": "3.8.5"
  },
  "toc": {
   "base_numbering": 1,
   "nav_menu": {},
   "number_sections": true,
   "sideBar": true,
   "skip_h1_title": false,
   "title_cell": "Table of Contents",
   "title_sidebar": "Contents",
   "toc_cell": false,
   "toc_position": {},
   "toc_section_display": true,
   "toc_window_display": false
  }
 },
 "nbformat": 4,
 "nbformat_minor": 2
}
